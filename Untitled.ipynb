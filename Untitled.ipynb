{
 "cells": [
  {
   "cell_type": "code",
   "execution_count": 1,
   "id": "043ce872",
   "metadata": {},
   "outputs": [
    {
     "name": "stderr",
     "output_type": "stream",
     "text": [
      "[nltk_data] Downloading package punkt to\n",
      "[nltk_data]     C:\\Users\\Isaac\\AppData\\Roaming\\nltk_data...\n",
      "[nltk_data]   Package punkt is already up-to-date!\n"
     ]
    },
    {
     "data": {
      "text/plain": [
       "True"
      ]
     },
     "execution_count": 1,
     "metadata": {},
     "output_type": "execute_result"
    }
   ],
   "source": [
    "import json\n",
    "import os\n",
    "import nltk\n",
    "import csv\n",
    "nltk.download(\"punkt\")"
   ]
  },
  {
   "cell_type": "markdown",
   "id": "b5449b45",
   "metadata": {},
   "source": [
    "#### Reading in legal files"
   ]
  },
  {
   "cell_type": "code",
   "execution_count": 2,
   "id": "862ba4e6",
   "metadata": {},
   "outputs": [],
   "source": [
    "# Separate passages from metadata\n",
    "files = os.listdir(\"./Legal_Files/Corpus\")\n",
    "legal_passages = list(filter(lambda path: \"Technical\" in path, files))\n",
    "legal_metadata = list(filter(lambda path: \"Metadata\" in path, files))"
   ]
  },
  {
   "cell_type": "code",
   "execution_count": 3,
   "id": "83a4220f",
   "metadata": {},
   "outputs": [],
   "source": [
    "# Format all passages in append into an array\n",
    "passage_data = []\n",
    "for passage_file in legal_passages:\n",
    "    with open(f\"./Legal_Files/Corpus/{passage_file}\", 'r', encoding =\"utf-8\") as technical_file:\n",
    "        lines = technical_file.readlines()\n",
    "        sentences = filter(lambda x: x[0] != '_', lines)\n",
    "    \n",
    "    formatted_passage_file = ' '.join(word.strip() for word in sentences)\n",
    "    passage_data.append(formatted_passage_file)\n"
   ]
  },
  {
   "cell_type": "code",
   "execution_count": 4,
   "id": "78c4bf3c",
   "metadata": {},
   "outputs": [],
   "source": [
    "## Arrange each passage into chunks of five.\n",
    "passage_chunks = []\n",
    "for index, passage in enumerate(passage_data):\n",
    "    split_passage , chunk_size, key_index = {}, 5, 0\n",
    "    tokenized_sentence = nltk.sent_tokenize(passage)\n",
    "    \n",
    "    ## Convert each passage into chunks of five sentences\n",
    "    for i in range(0, len(tokenized_sentence), chunk_size):\n",
    "        grouped_sentence = ' '.join(tokenized_sentence[i:i+chunk_size])\n",
    "        split_passage[f\"Passage{key_index}\"] = grouped_sentence\n",
    "        key_index += 1\n",
    "    \n",
    "    ## Add each processed passage to passage_chunks\n",
    "    passage_chunks.append(split_passage)"
   ]
  },
  {
   "cell_type": "markdown",
   "id": "f0ac8e0e",
   "metadata": {},
   "source": [
    "### Process entire metadata into list"
   ]
  },
  {
   "cell_type": "code",
   "execution_count": 5,
   "id": "0cfd45d2",
   "metadata": {},
   "outputs": [],
   "source": [
    "entire_metadata = []\n",
    "\n",
    "for metadata_file in legal_metadata:\n",
    "    with open(f\"./Legal_Files/Corpus/{metadata_file}\", \"r\", encoding = \"utf-8\") as file:\n",
    "        data = file.read()\n",
    "    entire_metadata.append(data)"
   ]
  },
  {
   "cell_type": "markdown",
   "id": "421d0da1",
   "metadata": {},
   "source": [
    "### Writing passages and metadata into passage_metadata.csv "
   ]
  },
  {
   "cell_type": "code",
   "execution_count": 6,
   "id": "f2bed54a",
   "metadata": {},
   "outputs": [],
   "source": [
    "with open(\"./docs/passage_metadata.csv\", \"a\", encoding = \"utf-8\") as csv_file:\n",
    "    headers = [\"Passage\", \"Metadata\"]\n",
    "    writer = csv.DictWriter(csv_file,fieldnames= headers)\n",
    "    writer.writeheader()\n",
    "    for metadata, chunks in zip(entire_metadata, passage_chunks):\n",
    "        for chunk in list(chunks.values()):\n",
    "            writer.writerow({ \"Passage\": chunk, \"Metadata\": metadata})"
   ]
  },
  {
   "cell_type": "code",
   "execution_count": null,
   "id": "6cc4cead",
   "metadata": {},
   "outputs": [],
   "source": []
  }
 ],
 "metadata": {
  "kernelspec": {
   "display_name": "Python 3 (ipykernel)",
   "language": "python",
   "name": "python3"
  },
  "language_info": {
   "codemirror_mode": {
    "name": "ipython",
    "version": 3
   },
   "file_extension": ".py",
   "mimetype": "text/x-python",
   "name": "python",
   "nbconvert_exporter": "python",
   "pygments_lexer": "ipython3",
   "version": "3.10.13"
  }
 },
 "nbformat": 4,
 "nbformat_minor": 5
}
